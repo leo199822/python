{
 "cells": [
  {
   "cell_type": "code",
   "execution_count": null,
   "metadata": {},
   "outputs": [],
   "source": [
    "a=5 #初始值a=5\n",
    "b=a+1 #運算子\n",
    "a-b  #運算子，最後顯示結果"
   ]
  },
  {
   "cell_type": "code",
   "execution_count": 1,
   "metadata": {},
   "outputs": [
    {
     "name": "stdout",
     "output_type": "stream",
     "text": [
      "<class 'int'>\n",
      "<class 'float'>\n",
      "<class 'str'>\n",
      "<class 'bool'>\n"
     ]
    },
    {
     "data": {
      "text/plain": [
       "1766584480"
      ]
     },
     "execution_count": 1,
     "metadata": {},
     "output_type": "execute_result"
    }
   ],
   "source": [
    "x=241 #初始值\n",
    "print(type(x)) #顯示\n",
    "id(x) #顯示變數性質\n",
    "x=241.0\n",
    "print(type(x))\n",
    "id(x)\n",
    "x=\"Write\"\n",
    "print(type(x))\n",
    "id(x)\n",
    "x=True\n",
    "print(type(x))\n",
    "id(x)"
   ]
  },
  {
   "cell_type": "code",
   "execution_count": null,
   "metadata": {},
   "outputs": [],
   "source": [
    "import requests #引用方法\n",
    "x = requests.get(\"https://www.google.com.tw/\")#使用網址\n",
    "print(x.text)"
   ]
  },
  {
   "cell_type": "code",
   "execution_count": 2,
   "metadata": {},
   "outputs": [
    {
     "name": "stdout",
     "output_type": "stream",
     "text": [
      "95\n",
      "7\n",
      "255\n",
      "0.000899\n",
      "21.904761904761905\n"
     ]
    }
   ],
   "source": [
    "print(0o137) #8進位\n",
    "print(0b111)#2近位\n",
    "print(0xff)#16近位\n",
    "print(8.99e-4) \n",
    "print(23/1.05)#除法"
   ]
  },
  {
   "cell_type": "code",
   "execution_count": 3,
   "metadata": {},
   "outputs": [
    {
     "name": "stdout",
     "output_type": "stream",
     "text": [
      "(4.23+8.5j)\n",
      "4.23\n",
      "8.5\n",
      "(4.23-8.5j)\n"
     ]
    }
   ],
   "source": [
    "aComplex = 4.23+8.5j\n",
    "print(aComplex) \n",
    "print(aComplex.real)#實數\n",
    "print(aComplex.imag)#虛數\n",
    "print(aComplex.conjugate())#共軛複數"
   ]
  },
  {
   "cell_type": "code",
   "execution_count": 5,
   "metadata": {},
   "outputs": [
    {
     "data": {
      "text/plain": [
       "<function matplotlib.pyplot.show>"
      ]
     },
     "execution_count": 5,
     "metadata": {},
     "output_type": "execute_result"
    },
    {
     "data": {
      "image/png": "[encoded data removed]",
      "text/plain": [
       "<matplotlib.figure.Figure at 0x7e3ec18>"
      ]
     },
     "metadata": {},
     "output_type": "display_data"
    }
   ],
   "source": [
    "import matplotlib.pyplot as pt #定義，引用方法\n",
    "x=[1,2,3,4,5] #設置座標\n",
    "y=[3,7,5,4,9]\n",
    "pt.plot(x,y)\n",
    "pt.show #顯示圖"
   ]
  },
  {
   "cell_type": "code",
   "execution_count": 9,
   "metadata": {},
   "outputs": [
    {
     "data": {
      "text/plain": [
       "<function matplotlib.pyplot.show>"
      ]
     },
     "execution_count": 9,
     "metadata": {},
     "output_type": "execute_result"
    },
    {
     "data": {
      "image/png": "[encoded data removed]",
      "text/plain": [
       "<matplotlib.figure.Figure at 0x7e74748>"
      ]
     },
     "metadata": {},
     "output_type": "display_data"
    }
   ],
   "source": [
    "import matplotlib.pyplot as pt\n",
    "x=[1,2,3,4,5]\n",
    "y=[3,7,5,4,9]\n",
    "pt.plot(x,y,\"b--\")#虛線\n",
    "pt.plot(y,\"r^\")#三角形\n",
    "pt.plot(x,\"ys\")#方形\n",
    "pt.show"
   ]
  },
  {
   "cell_type": "code",
   "execution_count": null,
   "metadata": {},
   "outputs": [],
   "source": [
    "import matplotlib.pyplot as pt\n",
    "import numpy as np\n",
    "x=np.random.rand(50)#亂數50個點\n",
    "y=np.random.rand(50)\n",
    "pt.scatter(x,y)\n",
    "pt.show"
   ]
  },
  {
   "cell_type": "code",
   "execution_count": null,
   "metadata": {},
   "outputs": [],
   "source": [
    "import matplotlib.pyplot as pt #加入角度的圖形程式\n",
    "import numpy as np\n",
    "x=np.arange(0,360)\n",
    "y=np.sin(x*np.pi/180.0)\n",
    "pt.xlim(0,360)\n",
    "pt.ylim(-1,2,1,2)\n",
    "pt.plot(x,y)\n",
    "pt.show"
   ]
  },
  {
   "cell_type": "code",
   "execution_count": null,
   "metadata": {},
   "outputs": [],
   "source": [
    "import matplotlib.pyplot as pt #COS & SIN 圖形程式\n",
    "import numpy as np\n",
    "x=np.arange(0,360)\n",
    "y=np.sin(x*np.pi/180.0)\n",
    "z=np.cos(x*np.pi/180.0)\n",
    "pt.xlim(0,360)\n",
    "pt.ylim(-1,2,1,2)\n",
    "pt.plot(x,y,label=\"sin\")\n",
    "pt.plot(x,z,label=\"cos\")\n",
    "pt.title(\"SIN and COS\")\n",
    "pt.xlabel(\"Degree\")\n",
    "pt.ylabel(\"Value\")\n",
    "pt.legend()\n",
    "pt.show"
   ]
  },
  {
   "cell_type": "code",
   "execution_count": null,
   "metadata": {},
   "outputs": [],
   "source": []
  }
 ],
 "metadata": {
  "kernelspec": {
   "display_name": "Python 3",
   "language": "python",
   "name": "python3"
  },
  "language_info": {
   "codemirror_mode": {
    "name": "ipython",
    "version": 3
   },
   "file_extension": ".py",
   "mimetype": "text/x-python",
   "name": "python",
   "nbconvert_exporter": "python",
   "pygments_lexer": "ipython3",
   "version": "3.6.4"
  }
 },
 "nbformat": 4,
 "nbformat_minor": 2
}
