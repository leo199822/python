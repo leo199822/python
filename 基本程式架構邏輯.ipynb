{
 "cells": [
  {
   "cell_type": "code",
   "execution_count": null,
   "metadata": {},
   "outputs": [],
   "source": [
    "#攝氏溫度轉換 -基礎運用\n",
    "Cires = input(\"請輸入攝氏溫度\")\n",
    "facis = 9/5 * int(Cires)\n",
    "print(\"華氏溫度=\",facis)"
   ]
  },
  {
   "cell_type": "code",
   "execution_count": null,
   "metadata": {},
   "outputs": [],
   "source": [
    "# P4-1-1敘述統計(statistics函式庫)\n",
    "import statistics as st\n",
    "sample= [5, 8, 9, 6, 4, 1, 2, 3, 5, 6]\n",
    "print('樣本 = ', sample)\n",
    "print('平均數 = ',  st.mean(sample))\n",
    "print('最大值 = ',  max(sample))\n",
    "print('最小值= ',  min(sample))\n",
    "print('變異數 = ', round(st.variance(sample),2))\n",
    "print('標準差= ',  round(st.stdev(sample),2))"
   ]
  },
  {
   "cell_type": "code",
   "execution_count": null,
   "metadata": {},
   "outputs": [],
   "source": [
    "#邏輯運算子+if判斷式\n",
    "a =4\n",
    "b =6\n",
    "if a>=b:\n",
    "    print(\"a比較大\")\n",
    "else:\n",
    "    print(\"bb很大\")"
   ]
  },
  {
   "cell_type": "code",
   "execution_count": 1,
   "metadata": {},
   "outputs": [
    {
     "name": "stdout",
     "output_type": "stream",
     "text": [
      "SUM= 0\n"
     ]
    }
   ],
   "source": [
    "#進階 近似if運用方法 -Range(起始,尾值,改變數值大小)\n",
    "SUM=0\n",
    "for con in range(10,11,-1):\n",
    "# for con range(11):    \n",
    "    SUM+=con\n",
    "print(\"SUM=\",SUM)"
   ]
  },
  {
   "cell_type": "code",
   "execution_count": 2,
   "metadata": {},
   "outputs": [
    {
     "name": "stdout",
     "output_type": "stream",
     "text": [
      "t\n",
      "e\n",
      "s\n",
      "t\n",
      " \n",
      "l\n",
      "i\n",
      "s\n",
      "t\n",
      "end\n"
     ]
    }
   ],
   "source": [
    "#用for迴圈 印出字串\n",
    "mylist =\"test list\"\n",
    "for word in mylist:\n",
    "    print(word)\n",
    "else:\n",
    "    print(\"end\")"
   ]
  },
  {
   "cell_type": "code",
   "execution_count": 3,
   "metadata": {},
   "outputs": [
    {
     "name": "stdout",
     "output_type": "stream",
     "text": [
      "37 年後本金變成 20065\n"
     ]
    }
   ],
   "source": [
    "#while迴圈\n",
    "sum=0\n",
    "count=0\n",
    "while count <=10:\n",
    "    sum+=count\n",
    "    count+=1\n",
    "print(\"1+2+...+10=\",sum)   "
   ]
  },
  {
   "cell_type": "code",
   "execution_count": null,
   "metadata": {},
   "outputs": [],
   "source": [
    "#While應用II\n",
    "year=0\n",
    "x=10000\n",
    "while x<=20000:\n",
    "    x=x*1.019\n",
    "    year+=1\n",
    "print(year,\"年後本金變成\",int(x))"
   ]
  },
  {
   "cell_type": "code",
   "execution_count": null,
   "metadata": {},
   "outputs": [],
   "source": [
    "#猜數字 亂數Random+While迴圈應用\n",
    "import random\n",
    "num=random.randint(1,5)\n",
    "while True:\n",
    "    guess=int(input(\"輸入1~5的數字: \"))\n",
    "    if guess==num:\n",
    "        print(\"You right\")\n",
    "        break\n",
    "    else:\n",
    "        print(\"You lose\")"
   ]
  },
  {
   "cell_type": "code",
   "execution_count": 6,
   "metadata": {},
   "outputs": [
    {
     "name": "stdout",
     "output_type": "stream",
     "text": [
      "36\n",
      "9\n",
      "42\n",
      "5\n",
      "21\n",
      "13\n"
     ]
    }
   ],
   "source": [
    "#Random進階應用+for迴圈\n",
    "import numpy as np\n",
    "a=np.random.randint(1,50,size=6)\n",
    "for eacha in a:\n",
    "    print(eacha)"
   ]
  }
 ],
 "metadata": {
  "kernelspec": {
   "display_name": "Python 3",
   "language": "python",
   "name": "python3"
  },
  "language_info": {
   "codemirror_mode": {
    "name": "ipython",
    "version": 3
   },
   "file_extension": ".py",
   "mimetype": "text/x-python",
   "name": "python",
   "nbconvert_exporter": "python",
   "pygments_lexer": "ipython3",
   "version": "3.6.4"
  }
 },
 "nbformat": 4,
 "nbformat_minor": 2
}
