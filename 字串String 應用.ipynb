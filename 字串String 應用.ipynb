{
 "cells": [
  {
   "cell_type": "code",
   "execution_count": null,
   "metadata": {},
   "outputs": [],
   "source": [
    "#使用字串儲存\n",
    "my_list2=['pyton','js','SQL']\n",
    "my_list2.append('java')\n",
    "my_list2[3]\n",
    "print(len(my_list2))\n",
    "print(len(my_list2[0]))"
   ]
  },
  {
   "cell_type": "code",
   "execution_count": null,
   "metadata": {},
   "outputs": [],
   "source": [
    "#字串應用II\n",
    "anguages=['pyson','js','go']\n",
    "del languages[-1] #-1 = 從最後一個位置開始\n",
    "print(languages)"
   ]
  },
  {
   "cell_type": "code",
   "execution_count": 1,
   "metadata": {},
   "outputs": [
    {
     "name": "stdout",
     "output_type": "stream",
     "text": [
      "True\n",
      "False\n"
     ]
    }
   ],
   "source": [
    "#字串 比較應用 Boolean\n",
    "a=['pyson','js','go']\n",
    "print('pyson' in a)\n",
    "print('java' in a)"
   ]
  },
  {
   "cell_type": "code",
   "execution_count": null,
   "metadata": {},
   "outputs": [],
   "source": [
    "#字串應用 重複輸出字串值\n",
    "a=['pyson','js','go']\n",
    "print(a*5)"
   ]
  },
  {
   "cell_type": "code",
   "execution_count": 2,
   "metadata": {},
   "outputs": [
    {
     "name": "stdout",
     "output_type": "stream",
     "text": [
      "[1, 2, 3]\n",
      "[1, 3, 5, 7, 9]\n",
      "[1, 2, 3, 4, 5, 6, 7]\n",
      "1\n",
      "7\n",
      "0\n",
      "1\n",
      "[7, 6, 5, 4, 3, 2, 1]\n",
      "[1, 2, 3, 4, 5, 6, 7]\n"
     ]
    }
   ],
   "source": [
    "#進階字串應用\n",
    "a=[1,2,3,4,5,6,7,8,9]\n",
    "b=a[0:3] #range\n",
    "print(b)\n",
    "\n",
    "c=a[0:9:2]#間隔\n",
    "print(c)\n",
    "\n",
    "del a[7:9] #delete\n",
    "print(a)\n",
    "\n",
    "print(min(a))\n",
    "print(max(a))\n",
    "print(a.index(1)) #get index\n",
    "print(a.count(1)) #times\n",
    "\n",
    "a.reverse()#反轉\n",
    "print(a)\n",
    "\n",
    "a.sort()#排序\n",
    "print(a)"
   ]
  },
  {
   "cell_type": "code",
   "execution_count": 3,
   "metadata": {},
   "outputs": [
    {
     "name": "stdout",
     "output_type": "stream",
     "text": [
      "PY\n",
      "JAVA\n",
      "SQL\n",
      "SQL\n",
      "JAVA\n",
      "JAVA8\n",
      "['PY', 'JAVA', 'SQL', 'JAVA8']\n",
      "['c#', 'PY', 'JAVA', 'SQL', 'JAVA8']\n",
      "['c#', 'PY', 'JAVA', 'SQL']\n",
      "['PY', 'JAVA', 'SQL']\n"
     ]
    }
   ],
   "source": [
    "#進階字串應用II\n",
    "my_list=[]\n",
    "my_list1=list()\n",
    "my_list2=[\"PY\",\"JAVA\",\"SQL\"]\n",
    "print(my_list2[0])#第0位置，以下以此類推\n",
    "print(my_list2[1])\n",
    "print(my_list2[2])\n",
    "print(my_list2[-1])#從後面第一個開始，以此類推\n",
    "print(my_list2[-2])\n",
    "my_list2.append(\"JAVA8\")#加入新字串資料\n",
    "print(my_list2[-1])\n",
    "print(my_list2)\n",
    "\n",
    "my_list2.insert(0,\"c#\")#插入指定位置\n",
    "print(my_list2)\n",
    "del my_list2[-1]#刪除字串資料\n",
    "print(my_list2)\n",
    "my_list2.remove(\"c#\")#指定名稱字串移除\n",
    "print(my_list2)"
   ]
  },
  {
   "cell_type": "code",
   "execution_count": null,
   "metadata": {},
   "outputs": [],
   "source": []
  }
 ],
 "metadata": {
  "kernelspec": {
   "display_name": "Python 3",
   "language": "python",
   "name": "python3"
  },
  "language_info": {
   "codemirror_mode": {
    "name": "ipython",
    "version": 3
   },
   "file_extension": ".py",
   "mimetype": "text/x-python",
   "name": "python",
   "nbconvert_exporter": "python",
   "pygments_lexer": "ipython3",
   "version": "3.6.4"
  }
 },
 "nbformat": 4,
 "nbformat_minor": 2
}
